{
 "cells": [
  {
   "cell_type": "code",
   "execution_count": 1,
   "metadata": {},
   "outputs": [
    {
     "name": "stdout",
     "output_type": "stream",
     "text": [
      "The autoreload extension is already loaded. To reload it, use:\n",
      "  %reload_ext autoreload\n"
     ]
    }
   ],
   "source": [
    "%load_ext autoreload\n",
    "%autoreload 2"
   ]
  },
  {
   "cell_type": "code",
   "execution_count": 2,
   "metadata": {},
   "outputs": [],
   "source": [
    "%matplotlib inline\n",
    "import numpy as np\n",
    "import matplotlib.pyplot as plt\n",
    "import xarray"
   ]
  },
  {
   "cell_type": "code",
   "execution_count": 3,
   "metadata": {},
   "outputs": [],
   "source": [
    "from mmctools.dataloaders import read_dir\n",
    "from mmctools.wrf.utils import extract_column_from_wrfdata"
   ]
  },
  {
   "cell_type": "markdown",
   "metadata": {},
   "source": [
    "# Extract WRF data at a specific site and write as internal forcing for SOWFA"
   ]
  },
  {
   "cell_type": "markdown",
   "metadata": {},
   "source": [
    "Input files"
   ]
  },
  {
   "cell_type": "code",
   "execution_count": 4,
   "metadata": {},
   "outputs": [],
   "source": [
    "dpath = '/projects/mmc/SWIFTRegion/8Nov2013/WRF_144hrs/WRFdata'\n",
    "file_filter  = 'wrfout_d03_*'"
   ]
  },
  {
   "cell_type": "markdown",
   "metadata": {},
   "source": [
    "SWIFT site coordinates"
   ]
  },
  {
   "cell_type": "code",
   "execution_count": 5,
   "metadata": {},
   "outputs": [],
   "source": [
    "site_latitude  = 33.61054\n",
    "site_longitude = -102.05054"
   ]
  },
  {
   "cell_type": "markdown",
   "metadata": {},
   "source": [
    "Some parameters for extracting site data"
   ]
  },
  {
   "cell_type": "code",
   "execution_count": 6,
   "metadata": {},
   "outputs": [],
   "source": [
    "# Define how WRF data is filtered to site specific data\n",
    "# - 'interpolate': interpolate to site coordinates\n",
    "# - 'nearest': use nearest WRF grid point\n",
    "# - 'average': average of an area L_filter x Lfilter centred around the site\n",
    "spatial_filter = 'nearest'\n",
    "L_filter = 0.0\n",
    "\n",
    "# Define microscale vertical grid\n",
    "Ztop = 2000.0 # Column height [m]\n",
    "Vres = 5.0    # Vertical resolution [m]"
   ]
  },
  {
   "cell_type": "markdown",
   "metadata": {},
   "source": [
    "## Read WRF data"
   ]
  },
  {
   "cell_type": "code",
   "execution_count": 7,
   "metadata": {},
   "outputs": [
    {
     "name": "stdout",
     "output_type": "stream",
     "text": [
      "Reading /projects/mmc/SWIFTRegion/8Nov2013/WRF_144hrs/WRFdata/wrfout_d03_2013-11-06_13:00:00\n",
      "Reading /projects/mmc/SWIFTRegion/8Nov2013/WRF_144hrs/WRFdata/wrfout_d03_2013-11-06_14:00:00\n",
      "Reading /projects/mmc/SWIFTRegion/8Nov2013/WRF_144hrs/WRFdata/wrfout_d03_2013-11-06_15:00:00\n",
      "Reading /projects/mmc/SWIFTRegion/8Nov2013/WRF_144hrs/WRFdata/wrfout_d03_2013-11-06_16:00:00\n",
      "Reading /projects/mmc/SWIFTRegion/8Nov2013/WRF_144hrs/WRFdata/wrfout_d03_2013-11-06_17:00:00\n"
     ]
    }
   ],
   "source": [
    "xa = read_dir(dpath, file_filter=file_filter,\n",
    "              reader=extract_column_from_wrfdata,\n",
    "              verbose=True,\n",
    "              coords=(site_latitude,site_longitude),\n",
    "              spatial_filter=spatial_filter,L_filter=L_filter,\n",
    "              Ztop=Ztop,Vres=Vres,\n",
    "             )"
   ]
  },
  {
   "cell_type": "code",
   "execution_count": 12,
   "metadata": {},
   "outputs": [
    {
     "data": {
      "text/html": [
       "<div>\n",
       "<style scoped>\n",
       "    .dataframe tbody tr th:only-of-type {\n",
       "        vertical-align: middle;\n",
       "    }\n",
       "\n",
       "    .dataframe tbody tr th {\n",
       "        vertical-align: top;\n",
       "    }\n",
       "\n",
       "    .dataframe thead th {\n",
       "        text-align: right;\n",
       "    }\n",
       "</style>\n",
       "<table border=\"1\" class=\"dataframe\">\n",
       "  <thead>\n",
       "    <tr style=\"text-align: right;\">\n",
       "      <th></th>\n",
       "      <th></th>\n",
       "      <th>U10</th>\n",
       "      <th>V10</th>\n",
       "      <th>T2</th>\n",
       "      <th>TSK</th>\n",
       "      <th>UST</th>\n",
       "      <th>PSFC</th>\n",
       "      <th>HFX</th>\n",
       "      <th>LH</th>\n",
       "      <th>MUU</th>\n",
       "      <th>MUV</th>\n",
       "      <th>...</th>\n",
       "      <th>RU_TEND_ADV</th>\n",
       "      <th>RU_TEND_PGF</th>\n",
       "      <th>RU_TEND_COR</th>\n",
       "      <th>RU_TEND_PHYS</th>\n",
       "      <th>RV_TEND</th>\n",
       "      <th>RV_TEND_ADV</th>\n",
       "      <th>RV_TEND_PGF</th>\n",
       "      <th>RV_TEND_COR</th>\n",
       "      <th>RV_TEND_PHYS</th>\n",
       "      <th>T_TEND_ADV</th>\n",
       "    </tr>\n",
       "    <tr>\n",
       "      <th>Time</th>\n",
       "      <th>height</th>\n",
       "      <th></th>\n",
       "      <th></th>\n",
       "      <th></th>\n",
       "      <th></th>\n",
       "      <th></th>\n",
       "      <th></th>\n",
       "      <th></th>\n",
       "      <th></th>\n",
       "      <th></th>\n",
       "      <th></th>\n",
       "      <th></th>\n",
       "      <th></th>\n",
       "      <th></th>\n",
       "      <th></th>\n",
       "      <th></th>\n",
       "      <th></th>\n",
       "      <th></th>\n",
       "      <th></th>\n",
       "      <th></th>\n",
       "      <th></th>\n",
       "      <th></th>\n",
       "    </tr>\n",
       "  </thead>\n",
       "  <tbody>\n",
       "    <tr>\n",
       "      <th rowspan=\"5\" valign=\"top\">2013-11-06 13:00:00.003662109</th>\n",
       "      <th>0.0</th>\n",
       "      <td>0.770027</td>\n",
       "      <td>-3.19607</td>\n",
       "      <td>274.621033</td>\n",
       "      <td>274.064972</td>\n",
       "      <td>0.26289</td>\n",
       "      <td>90903.859375</td>\n",
       "      <td>-13.954296</td>\n",
       "      <td>4.333423</td>\n",
       "      <td>80820.695312</td>\n",
       "      <td>80813.375</td>\n",
       "      <td>...</td>\n",
       "      <td>-2.102450</td>\n",
       "      <td>66.662384</td>\n",
       "      <td>-13.372542</td>\n",
       "      <td>-49.643879</td>\n",
       "      <td>-19.746960</td>\n",
       "      <td>-6.384679</td>\n",
       "      <td>-21.007809</td>\n",
       "      <td>-3.307667</td>\n",
       "      <td>10.953281</td>\n",
       "      <td>-1.274887</td>\n",
       "    </tr>\n",
       "    <tr>\n",
       "      <th>5.0</th>\n",
       "      <td>0.770027</td>\n",
       "      <td>-3.19607</td>\n",
       "      <td>274.621033</td>\n",
       "      <td>274.064972</td>\n",
       "      <td>0.26289</td>\n",
       "      <td>90903.859375</td>\n",
       "      <td>-13.954296</td>\n",
       "      <td>4.333423</td>\n",
       "      <td>80820.695312</td>\n",
       "      <td>80813.375</td>\n",
       "      <td>...</td>\n",
       "      <td>-3.921372</td>\n",
       "      <td>46.667846</td>\n",
       "      <td>-18.522270</td>\n",
       "      <td>-41.208425</td>\n",
       "      <td>-0.262547</td>\n",
       "      <td>-9.644291</td>\n",
       "      <td>0.101269</td>\n",
       "      <td>-4.348202</td>\n",
       "      <td>13.628862</td>\n",
       "      <td>-2.383440</td>\n",
       "    </tr>\n",
       "    <tr>\n",
       "      <th>10.0</th>\n",
       "      <td>0.770027</td>\n",
       "      <td>-3.19607</td>\n",
       "      <td>274.621033</td>\n",
       "      <td>274.064972</td>\n",
       "      <td>0.26289</td>\n",
       "      <td>90903.859375</td>\n",
       "      <td>-13.954296</td>\n",
       "      <td>4.333423</td>\n",
       "      <td>80820.695312</td>\n",
       "      <td>80813.375</td>\n",
       "      <td>...</td>\n",
       "      <td>-4.805369</td>\n",
       "      <td>53.548797</td>\n",
       "      <td>-23.753883</td>\n",
       "      <td>-33.660543</td>\n",
       "      <td>0.956648</td>\n",
       "      <td>-16.495794</td>\n",
       "      <td>3.283797</td>\n",
       "      <td>-5.360131</td>\n",
       "      <td>19.529088</td>\n",
       "      <td>-3.093300</td>\n",
       "    </tr>\n",
       "    <tr>\n",
       "      <th>15.0</th>\n",
       "      <td>0.770027</td>\n",
       "      <td>-3.19607</td>\n",
       "      <td>274.621033</td>\n",
       "      <td>274.064972</td>\n",
       "      <td>0.26289</td>\n",
       "      <td>90903.859375</td>\n",
       "      <td>-13.954296</td>\n",
       "      <td>4.333423</td>\n",
       "      <td>80820.695312</td>\n",
       "      <td>80813.375</td>\n",
       "      <td>...</td>\n",
       "      <td>-5.145411</td>\n",
       "      <td>56.507538</td>\n",
       "      <td>-25.928317</td>\n",
       "      <td>-30.290789</td>\n",
       "      <td>-17.474393</td>\n",
       "      <td>-18.221195</td>\n",
       "      <td>-14.217142</td>\n",
       "      <td>-5.687652</td>\n",
       "      <td>20.651997</td>\n",
       "      <td>-3.744853</td>\n",
       "    </tr>\n",
       "    <tr>\n",
       "      <th>20.0</th>\n",
       "      <td>0.770027</td>\n",
       "      <td>-3.19607</td>\n",
       "      <td>274.621033</td>\n",
       "      <td>274.064972</td>\n",
       "      <td>0.26289</td>\n",
       "      <td>90903.859375</td>\n",
       "      <td>-13.954296</td>\n",
       "      <td>4.333423</td>\n",
       "      <td>80820.695312</td>\n",
       "      <td>80813.375</td>\n",
       "      <td>...</td>\n",
       "      <td>-5.637358</td>\n",
       "      <td>28.987938</td>\n",
       "      <td>-28.621709</td>\n",
       "      <td>-25.966961</td>\n",
       "      <td>36.311329</td>\n",
       "      <td>-18.500586</td>\n",
       "      <td>41.161170</td>\n",
       "      <td>-6.000139</td>\n",
       "      <td>19.651287</td>\n",
       "      <td>-4.678499</td>\n",
       "    </tr>\n",
       "  </tbody>\n",
       "</table>\n",
       "<p>5 rows × 26 columns</p>\n",
       "</div>"
      ],
      "text/plain": [
       "                                           U10      V10          T2  \\\n",
       "Time                          height                                  \n",
       "2013-11-06 13:00:00.003662109 0.0     0.770027 -3.19607  274.621033   \n",
       "                              5.0     0.770027 -3.19607  274.621033   \n",
       "                              10.0    0.770027 -3.19607  274.621033   \n",
       "                              15.0    0.770027 -3.19607  274.621033   \n",
       "                              20.0    0.770027 -3.19607  274.621033   \n",
       "\n",
       "                                             TSK      UST          PSFC  \\\n",
       "Time                          height                                      \n",
       "2013-11-06 13:00:00.003662109 0.0     274.064972  0.26289  90903.859375   \n",
       "                              5.0     274.064972  0.26289  90903.859375   \n",
       "                              10.0    274.064972  0.26289  90903.859375   \n",
       "                              15.0    274.064972  0.26289  90903.859375   \n",
       "                              20.0    274.064972  0.26289  90903.859375   \n",
       "\n",
       "                                            HFX        LH           MUU  \\\n",
       "Time                          height                                      \n",
       "2013-11-06 13:00:00.003662109 0.0    -13.954296  4.333423  80820.695312   \n",
       "                              5.0    -13.954296  4.333423  80820.695312   \n",
       "                              10.0   -13.954296  4.333423  80820.695312   \n",
       "                              15.0   -13.954296  4.333423  80820.695312   \n",
       "                              20.0   -13.954296  4.333423  80820.695312   \n",
       "\n",
       "                                            MUV  ...  RU_TEND_ADV  \\\n",
       "Time                          height             ...                \n",
       "2013-11-06 13:00:00.003662109 0.0     80813.375  ...    -2.102450   \n",
       "                              5.0     80813.375  ...    -3.921372   \n",
       "                              10.0    80813.375  ...    -4.805369   \n",
       "                              15.0    80813.375  ...    -5.145411   \n",
       "                              20.0    80813.375  ...    -5.637358   \n",
       "\n",
       "                                      RU_TEND_PGF  RU_TEND_COR  RU_TEND_PHYS  \\\n",
       "Time                          height                                           \n",
       "2013-11-06 13:00:00.003662109 0.0       66.662384   -13.372542    -49.643879   \n",
       "                              5.0       46.667846   -18.522270    -41.208425   \n",
       "                              10.0      53.548797   -23.753883    -33.660543   \n",
       "                              15.0      56.507538   -25.928317    -30.290789   \n",
       "                              20.0      28.987938   -28.621709    -25.966961   \n",
       "\n",
       "                                        RV_TEND  RV_TEND_ADV  RV_TEND_PGF  \\\n",
       "Time                          height                                        \n",
       "2013-11-06 13:00:00.003662109 0.0    -19.746960    -6.384679   -21.007809   \n",
       "                              5.0     -0.262547    -9.644291     0.101269   \n",
       "                              10.0     0.956648   -16.495794     3.283797   \n",
       "                              15.0   -17.474393   -18.221195   -14.217142   \n",
       "                              20.0    36.311329   -18.500586    41.161170   \n",
       "\n",
       "                                      RV_TEND_COR  RV_TEND_PHYS  T_TEND_ADV  \n",
       "Time                          height                                         \n",
       "2013-11-06 13:00:00.003662109 0.0       -3.307667     10.953281   -1.274887  \n",
       "                              5.0       -4.348202     13.628862   -2.383440  \n",
       "                              10.0      -5.360131     19.529088   -3.093300  \n",
       "                              15.0      -5.687652     20.651997   -3.744853  \n",
       "                              20.0      -6.000139     19.651287   -4.678499  \n",
       "\n",
       "[5 rows x 26 columns]"
      ]
     },
     "execution_count": 12,
     "metadata": {},
     "output_type": "execute_result"
    }
   ],
   "source": [
    "xa.to_dataframe().head()"
   ]
  },
  {
   "cell_type": "code",
   "execution_count": null,
   "metadata": {},
   "outputs": [],
   "source": []
  }
 ],
 "metadata": {
  "kernelspec": {
   "display_name": "Python 3",
   "language": "python",
   "name": "python3"
  },
  "language_info": {
   "codemirror_mode": {
    "name": "ipython",
    "version": 3
   },
   "file_extension": ".py",
   "mimetype": "text/x-python",
   "name": "python",
   "nbconvert_exporter": "python",
   "pygments_lexer": "ipython3",
   "version": "3.6.7"
  }
 },
 "nbformat": 4,
 "nbformat_minor": 2
}
