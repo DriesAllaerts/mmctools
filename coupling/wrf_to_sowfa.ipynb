{
 "cells": [
  {
   "cell_type": "code",
   "execution_count": 1,
   "metadata": {},
   "outputs": [
    {
     "name": "stdout",
     "output_type": "stream",
     "text": [
      "The autoreload extension is already loaded. To reload it, use:\n",
      "  %reload_ext autoreload\n"
     ]
    }
   ],
   "source": [
    "%load_ext autoreload\n",
    "%autoreload 2"
   ]
  },
  {
   "cell_type": "code",
   "execution_count": 2,
   "metadata": {},
   "outputs": [],
   "source": [
    "%matplotlib inline\n",
    "import numpy as np\n",
    "import matplotlib.pyplot as plt\n",
    "import xarray\n",
    "import pandas as pd"
   ]
  },
  {
   "cell_type": "code",
   "execution_count": 3,
   "metadata": {},
   "outputs": [],
   "source": [
    "from mmctools.dataloaders import read_dir\n",
    "from mmctools.wrf.utils import extract_column_from_wrfdata\n",
    "from mmctools.coupling.internal import timeheight_to_sowfa, ICs_to_sowfa, BCs_to_sowfa"
   ]
  },
  {
   "cell_type": "markdown",
   "metadata": {},
   "source": [
    "Define some physical constants"
   ]
  },
  {
   "cell_type": "code",
   "execution_count": 4,
   "metadata": {},
   "outputs": [],
   "source": [
    "g  = 9.81            # Gravity [m s-2]\n",
    "T0 = 300             # Reference temperature for perturbation temperature [K]\n",
    "K  = 0.41            # von Karman constant\n",
    "R_air = 287.058      # Specific gas constant for dry air [J kg-1 K-1]\n",
    "Cp_air = 1005        # Specific heat of air [J kg-1 K-1]\n",
    "P0 = 100000          # Reference pressure [Pa]\n",
    "kappa = R_air/Cp_air # Poisson constant"
   ]
  },
  {
   "cell_type": "code",
   "execution_count": 5,
   "metadata": {},
   "outputs": [],
   "source": [
    "# TODO's\n",
    "# ------\n",
    "# - rescaling with MU* after spatial filtrering means we are using the average MU*, is this what we want?\n",
    "# - some arrays are float 32, some are float64. Decide on what precision we are going to use\n",
    "# - make coupling.internal routines compatible with xarrays"
   ]
  },
  {
   "cell_type": "markdown",
   "metadata": {},
   "source": [
    "# Extract WRF data at a specific site and write as internal forcing for SOWFA"
   ]
  },
  {
   "cell_type": "markdown",
   "metadata": {},
   "source": [
    "Input files"
   ]
  },
  {
   "cell_type": "code",
   "execution_count": 6,
   "metadata": {},
   "outputs": [],
   "source": [
    "dpath = '/projects/mmc/SWIFTRegion/8Nov2013/WRF_144hrs/WRFdata'\n",
    "file_filter  = 'wrfout_d03_*'"
   ]
  },
  {
   "cell_type": "markdown",
   "metadata": {},
   "source": [
    "SWIFT site coordinates"
   ]
  },
  {
   "cell_type": "code",
   "execution_count": 7,
   "metadata": {},
   "outputs": [],
   "source": [
    "site_latitude  = 33.61054\n",
    "site_longitude = -102.05054"
   ]
  },
  {
   "cell_type": "markdown",
   "metadata": {},
   "source": [
    "Some parameters for extracting site data"
   ]
  },
  {
   "cell_type": "code",
   "execution_count": 8,
   "metadata": {},
   "outputs": [],
   "source": [
    "# Define how WRF data is filtered to site specific data\n",
    "# - 'interpolate': interpolate to site coordinates\n",
    "# - 'nearest': use nearest WRF grid point\n",
    "# - 'average': average of an area L_filter x Lfilter centred around the site\n",
    "spatial_filter = 'nearest'\n",
    "L_filter = 0.0\n",
    "\n",
    "# Define microscale vertical grid\n",
    "Ztop = 2000.0 # Column height [m]\n",
    "Vres = 5.0    # Vertical resolution [m]"
   ]
  },
  {
   "cell_type": "markdown",
   "metadata": {},
   "source": [
    "## Read WRF data"
   ]
  },
  {
   "cell_type": "code",
   "execution_count": 9,
   "metadata": {},
   "outputs": [
    {
     "name": "stdout",
     "output_type": "stream",
     "text": [
      "Reading /projects/mmc/SWIFTRegion/8Nov2013/WRF_144hrs/WRFdata/wrfout_d03_2013-11-06_12:00:00\n",
      "Reading /projects/mmc/SWIFTRegion/8Nov2013/WRF_144hrs/WRFdata/wrfout_d03_2013-11-06_13:00:00\n",
      "Reading /projects/mmc/SWIFTRegion/8Nov2013/WRF_144hrs/WRFdata/wrfout_d03_2013-11-06_14:00:00\n",
      "Reading /projects/mmc/SWIFTRegion/8Nov2013/WRF_144hrs/WRFdata/wrfout_d03_2013-11-06_15:00:00\n",
      "Reading /projects/mmc/SWIFTRegion/8Nov2013/WRF_144hrs/WRFdata/wrfout_d03_2013-11-06_16:00:00\n",
      "Reading /projects/mmc/SWIFTRegion/8Nov2013/WRF_144hrs/WRFdata/wrfout_d03_2013-11-06_17:00:00\n",
      "Reading /projects/mmc/SWIFTRegion/8Nov2013/WRF_144hrs/WRFdata/wrfout_d03_2013-11-06_18:00:00\n",
      "Reading /projects/mmc/SWIFTRegion/8Nov2013/WRF_144hrs/WRFdata/wrfout_d03_2013-11-06_19:00:00\n",
      "Reading /projects/mmc/SWIFTRegion/8Nov2013/WRF_144hrs/WRFdata/wrfout_d03_2013-11-06_20:00:00\n",
      "Reading /projects/mmc/SWIFTRegion/8Nov2013/WRF_144hrs/WRFdata/wrfout_d03_2013-11-06_21:00:00\n",
      "Reading /projects/mmc/SWIFTRegion/8Nov2013/WRF_144hrs/WRFdata/wrfout_d03_2013-11-06_22:00:00\n",
      "Reading /projects/mmc/SWIFTRegion/8Nov2013/WRF_144hrs/WRFdata/wrfout_d03_2013-11-06_23:00:00\n",
      "Reading /projects/mmc/SWIFTRegion/8Nov2013/WRF_144hrs/WRFdata/wrfout_d03_2013-11-07_00:00:00\n",
      "Reading /projects/mmc/SWIFTRegion/8Nov2013/WRF_144hrs/WRFdata/wrfout_d03_2013-11-07_01:00:00\n",
      "Reading /projects/mmc/SWIFTRegion/8Nov2013/WRF_144hrs/WRFdata/wrfout_d03_2013-11-07_02:00:00\n",
      "Reading /projects/mmc/SWIFTRegion/8Nov2013/WRF_144hrs/WRFdata/wrfout_d03_2013-11-07_03:00:00\n",
      "Reading /projects/mmc/SWIFTRegion/8Nov2013/WRF_144hrs/WRFdata/wrfout_d03_2013-11-07_04:00:00\n",
      "Reading /projects/mmc/SWIFTRegion/8Nov2013/WRF_144hrs/WRFdata/wrfout_d03_2013-11-07_05:00:00\n",
      "Reading /projects/mmc/SWIFTRegion/8Nov2013/WRF_144hrs/WRFdata/wrfout_d03_2013-11-07_06:00:00\n",
      "Reading /projects/mmc/SWIFTRegion/8Nov2013/WRF_144hrs/WRFdata/wrfout_d03_2013-11-07_07:00:00\n",
      "Reading /projects/mmc/SWIFTRegion/8Nov2013/WRF_144hrs/WRFdata/wrfout_d03_2013-11-07_08:00:00\n",
      "Reading /projects/mmc/SWIFTRegion/8Nov2013/WRF_144hrs/WRFdata/wrfout_d03_2013-11-07_09:00:00\n",
      "Reading /projects/mmc/SWIFTRegion/8Nov2013/WRF_144hrs/WRFdata/wrfout_d03_2013-11-07_10:00:00\n",
      "Reading /projects/mmc/SWIFTRegion/8Nov2013/WRF_144hrs/WRFdata/wrfout_d03_2013-11-07_11:00:00\n",
      "Reading /projects/mmc/SWIFTRegion/8Nov2013/WRF_144hrs/WRFdata/wrfout_d03_2013-11-07_12:00:00\n",
      "Reading /projects/mmc/SWIFTRegion/8Nov2013/WRF_144hrs/WRFdata/wrfout_d03_2013-11-07_13:00:00\n",
      "Reading /projects/mmc/SWIFTRegion/8Nov2013/WRF_144hrs/WRFdata/wrfout_d03_2013-11-07_14:00:00\n",
      "Reading /projects/mmc/SWIFTRegion/8Nov2013/WRF_144hrs/WRFdata/wrfout_d03_2013-11-07_15:00:00\n",
      "Reading /projects/mmc/SWIFTRegion/8Nov2013/WRF_144hrs/WRFdata/wrfout_d03_2013-11-07_16:00:00\n",
      "Reading /projects/mmc/SWIFTRegion/8Nov2013/WRF_144hrs/WRFdata/wrfout_d03_2013-11-07_17:00:00\n",
      "Reading /projects/mmc/SWIFTRegion/8Nov2013/WRF_144hrs/WRFdata/wrfout_d03_2013-11-07_18:00:00\n",
      "Reading /projects/mmc/SWIFTRegion/8Nov2013/WRF_144hrs/WRFdata/wrfout_d03_2013-11-07_19:00:00\n",
      "Reading /projects/mmc/SWIFTRegion/8Nov2013/WRF_144hrs/WRFdata/wrfout_d03_2013-11-07_20:00:00\n",
      "Reading /projects/mmc/SWIFTRegion/8Nov2013/WRF_144hrs/WRFdata/wrfout_d03_2013-11-07_21:00:00\n",
      "Reading /projects/mmc/SWIFTRegion/8Nov2013/WRF_144hrs/WRFdata/wrfout_d03_2013-11-07_22:00:00\n",
      "Reading /projects/mmc/SWIFTRegion/8Nov2013/WRF_144hrs/WRFdata/wrfout_d03_2013-11-07_23:00:00\n",
      "Reading /projects/mmc/SWIFTRegion/8Nov2013/WRF_144hrs/WRFdata/wrfout_d03_2013-11-08_00:00:00\n",
      "Reading /projects/mmc/SWIFTRegion/8Nov2013/WRF_144hrs/WRFdata/wrfout_d03_2013-11-08_01:00:00\n",
      "Reading /projects/mmc/SWIFTRegion/8Nov2013/WRF_144hrs/WRFdata/wrfout_d03_2013-11-08_02:00:00\n",
      "Reading /projects/mmc/SWIFTRegion/8Nov2013/WRF_144hrs/WRFdata/wrfout_d03_2013-11-08_03:00:00\n",
      "Reading /projects/mmc/SWIFTRegion/8Nov2013/WRF_144hrs/WRFdata/wrfout_d03_2013-11-08_04:00:00\n",
      "Reading /projects/mmc/SWIFTRegion/8Nov2013/WRF_144hrs/WRFdata/wrfout_d03_2013-11-08_05:00:00\n",
      "Reading /projects/mmc/SWIFTRegion/8Nov2013/WRF_144hrs/WRFdata/wrfout_d03_2013-11-08_06:00:00\n",
      "Reading /projects/mmc/SWIFTRegion/8Nov2013/WRF_144hrs/WRFdata/wrfout_d03_2013-11-08_07:00:00\n",
      "Reading /projects/mmc/SWIFTRegion/8Nov2013/WRF_144hrs/WRFdata/wrfout_d03_2013-11-08_08:00:00\n",
      "Reading /projects/mmc/SWIFTRegion/8Nov2013/WRF_144hrs/WRFdata/wrfout_d03_2013-11-08_09:00:00\n",
      "Reading /projects/mmc/SWIFTRegion/8Nov2013/WRF_144hrs/WRFdata/wrfout_d03_2013-11-08_10:00:00\n",
      "Reading /projects/mmc/SWIFTRegion/8Nov2013/WRF_144hrs/WRFdata/wrfout_d03_2013-11-08_11:00:00\n",
      "Reading /projects/mmc/SWIFTRegion/8Nov2013/WRF_144hrs/WRFdata/wrfout_d03_2013-11-08_12:00:00\n",
      "Reading /projects/mmc/SWIFTRegion/8Nov2013/WRF_144hrs/WRFdata/wrfout_d03_2013-11-08_13:00:00\n",
      "Reading /projects/mmc/SWIFTRegion/8Nov2013/WRF_144hrs/WRFdata/wrfout_d03_2013-11-08_14:00:00\n",
      "Reading /projects/mmc/SWIFTRegion/8Nov2013/WRF_144hrs/WRFdata/wrfout_d03_2013-11-08_15:00:00\n",
      "Reading /projects/mmc/SWIFTRegion/8Nov2013/WRF_144hrs/WRFdata/wrfout_d03_2013-11-08_16:00:00\n",
      "Reading /projects/mmc/SWIFTRegion/8Nov2013/WRF_144hrs/WRFdata/wrfout_d03_2013-11-08_17:00:00\n",
      "Reading /projects/mmc/SWIFTRegion/8Nov2013/WRF_144hrs/WRFdata/wrfout_d03_2013-11-08_18:00:00\n",
      "Reading /projects/mmc/SWIFTRegion/8Nov2013/WRF_144hrs/WRFdata/wrfout_d03_2013-11-08_19:00:00\n",
      "Reading /projects/mmc/SWIFTRegion/8Nov2013/WRF_144hrs/WRFdata/wrfout_d03_2013-11-08_20:00:00\n",
      "Reading /projects/mmc/SWIFTRegion/8Nov2013/WRF_144hrs/WRFdata/wrfout_d03_2013-11-08_21:00:00\n",
      "Reading /projects/mmc/SWIFTRegion/8Nov2013/WRF_144hrs/WRFdata/wrfout_d03_2013-11-08_22:00:00\n",
      "Reading /projects/mmc/SWIFTRegion/8Nov2013/WRF_144hrs/WRFdata/wrfout_d03_2013-11-08_23:00:00\n",
      "Reading /projects/mmc/SWIFTRegion/8Nov2013/WRF_144hrs/WRFdata/wrfout_d03_2013-11-09_00:00:00\n",
      "Reading /projects/mmc/SWIFTRegion/8Nov2013/WRF_144hrs/WRFdata/wrfout_d03_2013-11-09_01:00:00\n",
      "Reading /projects/mmc/SWIFTRegion/8Nov2013/WRF_144hrs/WRFdata/wrfout_d03_2013-11-09_02:00:00\n",
      "Reading /projects/mmc/SWIFTRegion/8Nov2013/WRF_144hrs/WRFdata/wrfout_d03_2013-11-09_03:00:00\n",
      "Reading /projects/mmc/SWIFTRegion/8Nov2013/WRF_144hrs/WRFdata/wrfout_d03_2013-11-09_04:00:00\n",
      "Reading /projects/mmc/SWIFTRegion/8Nov2013/WRF_144hrs/WRFdata/wrfout_d03_2013-11-09_05:00:00\n",
      "Reading /projects/mmc/SWIFTRegion/8Nov2013/WRF_144hrs/WRFdata/wrfout_d03_2013-11-09_06:00:00\n",
      "Reading /projects/mmc/SWIFTRegion/8Nov2013/WRF_144hrs/WRFdata/wrfout_d03_2013-11-09_07:00:00\n",
      "Reading /projects/mmc/SWIFTRegion/8Nov2013/WRF_144hrs/WRFdata/wrfout_d03_2013-11-09_08:00:00\n",
      "Reading /projects/mmc/SWIFTRegion/8Nov2013/WRF_144hrs/WRFdata/wrfout_d03_2013-11-09_09:00:00\n",
      "Reading /projects/mmc/SWIFTRegion/8Nov2013/WRF_144hrs/WRFdata/wrfout_d03_2013-11-09_10:00:00\n",
      "Reading /projects/mmc/SWIFTRegion/8Nov2013/WRF_144hrs/WRFdata/wrfout_d03_2013-11-09_11:00:00\n",
      "Reading /projects/mmc/SWIFTRegion/8Nov2013/WRF_144hrs/WRFdata/wrfout_d03_2013-11-09_12:00:00\n",
      "Reading /projects/mmc/SWIFTRegion/8Nov2013/WRF_144hrs/WRFdata/wrfout_d03_2013-11-09_13:00:00\n",
      "Reading /projects/mmc/SWIFTRegion/8Nov2013/WRF_144hrs/WRFdata/wrfout_d03_2013-11-09_14:00:00\n",
      "Reading /projects/mmc/SWIFTRegion/8Nov2013/WRF_144hrs/WRFdata/wrfout_d03_2013-11-09_15:00:00\n",
      "Reading /projects/mmc/SWIFTRegion/8Nov2013/WRF_144hrs/WRFdata/wrfout_d03_2013-11-09_16:00:00\n",
      "Reading /projects/mmc/SWIFTRegion/8Nov2013/WRF_144hrs/WRFdata/wrfout_d03_2013-11-09_17:00:00\n",
      "Reading /projects/mmc/SWIFTRegion/8Nov2013/WRF_144hrs/WRFdata/wrfout_d03_2013-11-09_18:00:00\n",
      "Reading /projects/mmc/SWIFTRegion/8Nov2013/WRF_144hrs/WRFdata/wrfout_d03_2013-11-09_19:00:00\n",
      "Reading /projects/mmc/SWIFTRegion/8Nov2013/WRF_144hrs/WRFdata/wrfout_d03_2013-11-09_20:00:00\n",
      "Reading /projects/mmc/SWIFTRegion/8Nov2013/WRF_144hrs/WRFdata/wrfout_d03_2013-11-09_21:00:00\n",
      "Reading /projects/mmc/SWIFTRegion/8Nov2013/WRF_144hrs/WRFdata/wrfout_d03_2013-11-09_22:00:00\n",
      "Reading /projects/mmc/SWIFTRegion/8Nov2013/WRF_144hrs/WRFdata/wrfout_d03_2013-11-09_23:00:00\n",
      "Reading /projects/mmc/SWIFTRegion/8Nov2013/WRF_144hrs/WRFdata/wrfout_d03_2013-11-10_00:00:00\n",
      "Reading /projects/mmc/SWIFTRegion/8Nov2013/WRF_144hrs/WRFdata/wrfout_d03_2013-11-10_01:00:00\n",
      "Reading /projects/mmc/SWIFTRegion/8Nov2013/WRF_144hrs/WRFdata/wrfout_d03_2013-11-10_02:00:00\n",
      "Reading /projects/mmc/SWIFTRegion/8Nov2013/WRF_144hrs/WRFdata/wrfout_d03_2013-11-10_03:00:00\n",
      "Reading /projects/mmc/SWIFTRegion/8Nov2013/WRF_144hrs/WRFdata/wrfout_d03_2013-11-10_04:00:00\n"
     ]
    },
    {
     "name": "stdout",
     "output_type": "stream",
     "text": [
      "Reading /projects/mmc/SWIFTRegion/8Nov2013/WRF_144hrs/WRFdata/wrfout_d03_2013-11-10_05:00:00\n",
      "Reading /projects/mmc/SWIFTRegion/8Nov2013/WRF_144hrs/WRFdata/wrfout_d03_2013-11-10_06:00:00\n",
      "Reading /projects/mmc/SWIFTRegion/8Nov2013/WRF_144hrs/WRFdata/wrfout_d03_2013-11-10_07:00:00\n",
      "Reading /projects/mmc/SWIFTRegion/8Nov2013/WRF_144hrs/WRFdata/wrfout_d03_2013-11-10_08:00:00\n",
      "Reading /projects/mmc/SWIFTRegion/8Nov2013/WRF_144hrs/WRFdata/wrfout_d03_2013-11-10_09:00:00\n",
      "Reading /projects/mmc/SWIFTRegion/8Nov2013/WRF_144hrs/WRFdata/wrfout_d03_2013-11-10_10:00:00\n",
      "Reading /projects/mmc/SWIFTRegion/8Nov2013/WRF_144hrs/WRFdata/wrfout_d03_2013-11-10_11:00:00\n",
      "Reading /projects/mmc/SWIFTRegion/8Nov2013/WRF_144hrs/WRFdata/wrfout_d03_2013-11-10_12:00:00\n",
      "Reading /projects/mmc/SWIFTRegion/8Nov2013/WRF_144hrs/WRFdata/wrfout_d03_2013-11-10_13:00:00\n",
      "Reading /projects/mmc/SWIFTRegion/8Nov2013/WRF_144hrs/WRFdata/wrfout_d03_2013-11-10_14:00:00\n",
      "Reading /projects/mmc/SWIFTRegion/8Nov2013/WRF_144hrs/WRFdata/wrfout_d03_2013-11-10_15:00:00\n",
      "Reading /projects/mmc/SWIFTRegion/8Nov2013/WRF_144hrs/WRFdata/wrfout_d03_2013-11-10_16:00:00\n",
      "Reading /projects/mmc/SWIFTRegion/8Nov2013/WRF_144hrs/WRFdata/wrfout_d03_2013-11-10_17:00:00\n",
      "Reading /projects/mmc/SWIFTRegion/8Nov2013/WRF_144hrs/WRFdata/wrfout_d03_2013-11-10_18:00:00\n",
      "Reading /projects/mmc/SWIFTRegion/8Nov2013/WRF_144hrs/WRFdata/wrfout_d03_2013-11-10_19:00:00\n",
      "Reading /projects/mmc/SWIFTRegion/8Nov2013/WRF_144hrs/WRFdata/wrfout_d03_2013-11-10_20:00:00\n",
      "Reading /projects/mmc/SWIFTRegion/8Nov2013/WRF_144hrs/WRFdata/wrfout_d03_2013-11-10_21:00:00\n",
      "Reading /projects/mmc/SWIFTRegion/8Nov2013/WRF_144hrs/WRFdata/wrfout_d03_2013-11-10_22:00:00\n",
      "Reading /projects/mmc/SWIFTRegion/8Nov2013/WRF_144hrs/WRFdata/wrfout_d03_2013-11-10_23:00:00\n",
      "Reading /projects/mmc/SWIFTRegion/8Nov2013/WRF_144hrs/WRFdata/wrfout_d03_2013-11-11_00:00:00\n",
      "Reading /projects/mmc/SWIFTRegion/8Nov2013/WRF_144hrs/WRFdata/wrfout_d03_2013-11-11_01:00:00\n",
      "Reading /projects/mmc/SWIFTRegion/8Nov2013/WRF_144hrs/WRFdata/wrfout_d03_2013-11-11_02:00:00\n",
      "Reading /projects/mmc/SWIFTRegion/8Nov2013/WRF_144hrs/WRFdata/wrfout_d03_2013-11-11_03:00:00\n",
      "Reading /projects/mmc/SWIFTRegion/8Nov2013/WRF_144hrs/WRFdata/wrfout_d03_2013-11-11_04:00:00\n",
      "Reading /projects/mmc/SWIFTRegion/8Nov2013/WRF_144hrs/WRFdata/wrfout_d03_2013-11-11_05:00:00\n",
      "Reading /projects/mmc/SWIFTRegion/8Nov2013/WRF_144hrs/WRFdata/wrfout_d03_2013-11-11_06:00:00\n",
      "Reading /projects/mmc/SWIFTRegion/8Nov2013/WRF_144hrs/WRFdata/wrfout_d03_2013-11-11_07:00:00\n",
      "Reading /projects/mmc/SWIFTRegion/8Nov2013/WRF_144hrs/WRFdata/wrfout_d03_2013-11-11_08:00:00\n",
      "Reading /projects/mmc/SWIFTRegion/8Nov2013/WRF_144hrs/WRFdata/wrfout_d03_2013-11-11_09:00:00\n",
      "Reading /projects/mmc/SWIFTRegion/8Nov2013/WRF_144hrs/WRFdata/wrfout_d03_2013-11-11_10:00:00\n",
      "Reading /projects/mmc/SWIFTRegion/8Nov2013/WRF_144hrs/WRFdata/wrfout_d03_2013-11-11_11:00:00\n",
      "Reading /projects/mmc/SWIFTRegion/8Nov2013/WRF_144hrs/WRFdata/wrfout_d03_2013-11-11_12:00:00\n",
      "Reading /projects/mmc/SWIFTRegion/8Nov2013/WRF_144hrs/WRFdata/wrfout_d03_2013-11-11_13:00:00\n",
      "Reading /projects/mmc/SWIFTRegion/8Nov2013/WRF_144hrs/WRFdata/wrfout_d03_2013-11-11_14:00:00\n",
      "Reading /projects/mmc/SWIFTRegion/8Nov2013/WRF_144hrs/WRFdata/wrfout_d03_2013-11-11_15:00:00\n",
      "Reading /projects/mmc/SWIFTRegion/8Nov2013/WRF_144hrs/WRFdata/wrfout_d03_2013-11-11_16:00:00\n",
      "Reading /projects/mmc/SWIFTRegion/8Nov2013/WRF_144hrs/WRFdata/wrfout_d03_2013-11-11_17:00:00\n",
      "Reading /projects/mmc/SWIFTRegion/8Nov2013/WRF_144hrs/WRFdata/wrfout_d03_2013-11-11_18:00:00\n",
      "Reading /projects/mmc/SWIFTRegion/8Nov2013/WRF_144hrs/WRFdata/wrfout_d03_2013-11-11_19:00:00\n",
      "Reading /projects/mmc/SWIFTRegion/8Nov2013/WRF_144hrs/WRFdata/wrfout_d03_2013-11-11_20:00:00\n",
      "Reading /projects/mmc/SWIFTRegion/8Nov2013/WRF_144hrs/WRFdata/wrfout_d03_2013-11-11_21:00:00\n",
      "Reading /projects/mmc/SWIFTRegion/8Nov2013/WRF_144hrs/WRFdata/wrfout_d03_2013-11-11_22:00:00\n",
      "Reading /projects/mmc/SWIFTRegion/8Nov2013/WRF_144hrs/WRFdata/wrfout_d03_2013-11-11_23:00:00\n",
      "Reading /projects/mmc/SWIFTRegion/8Nov2013/WRF_144hrs/WRFdata/wrfout_d03_2013-11-12_00:00:00\n",
      "Reading /projects/mmc/SWIFTRegion/8Nov2013/WRF_144hrs/WRFdata/wrfout_d03_2013-11-12_01:00:00\n",
      "Reading /projects/mmc/SWIFTRegion/8Nov2013/WRF_144hrs/WRFdata/wrfout_d03_2013-11-12_02:00:00\n",
      "Reading /projects/mmc/SWIFTRegion/8Nov2013/WRF_144hrs/WRFdata/wrfout_d03_2013-11-12_03:00:00\n",
      "Reading /projects/mmc/SWIFTRegion/8Nov2013/WRF_144hrs/WRFdata/wrfout_d03_2013-11-12_04:00:00\n",
      "Reading /projects/mmc/SWIFTRegion/8Nov2013/WRF_144hrs/WRFdata/wrfout_d03_2013-11-12_05:00:00\n",
      "Reading /projects/mmc/SWIFTRegion/8Nov2013/WRF_144hrs/WRFdata/wrfout_d03_2013-11-12_06:00:00\n",
      "Reading /projects/mmc/SWIFTRegion/8Nov2013/WRF_144hrs/WRFdata/wrfout_d03_2013-11-12_07:00:00\n",
      "Reading /projects/mmc/SWIFTRegion/8Nov2013/WRF_144hrs/WRFdata/wrfout_d03_2013-11-12_08:00:00\n",
      "Reading /projects/mmc/SWIFTRegion/8Nov2013/WRF_144hrs/WRFdata/wrfout_d03_2013-11-12_09:00:00\n",
      "Reading /projects/mmc/SWIFTRegion/8Nov2013/WRF_144hrs/WRFdata/wrfout_d03_2013-11-12_10:00:00\n",
      "Reading /projects/mmc/SWIFTRegion/8Nov2013/WRF_144hrs/WRFdata/wrfout_d03_2013-11-12_11:00:00\n",
      "Reading /projects/mmc/SWIFTRegion/8Nov2013/WRF_144hrs/WRFdata/wrfout_d03_2013-11-12_12:00:00\n",
      "CPU times: user 1min 6s, sys: 1min, total: 2min 7s\n",
      "Wall time: 5min 50s\n"
     ]
    }
   ],
   "source": [
    "%%time\n",
    "xa = read_dir(dpath, file_filter=file_filter,\n",
    "              reader=extract_column_from_wrfdata,\n",
    "              verbose=True,\n",
    "              coords=(site_latitude,site_longitude),\n",
    "              spatial_filter=spatial_filter,L_filter=L_filter,\n",
    "              Ztop=Ztop,Vres=Vres,\n",
    "             )"
   ]
  },
  {
   "cell_type": "code",
   "execution_count": 10,
   "metadata": {},
   "outputs": [
    {
     "data": {
      "text/html": [
       "<div>\n",
       "<style scoped>\n",
       "    .dataframe tbody tr th:only-of-type {\n",
       "        vertical-align: middle;\n",
       "    }\n",
       "\n",
       "    .dataframe tbody tr th {\n",
       "        vertical-align: top;\n",
       "    }\n",
       "\n",
       "    .dataframe thead th {\n",
       "        text-align: right;\n",
       "    }\n",
       "</style>\n",
       "<table border=\"1\" class=\"dataframe\">\n",
       "  <thead>\n",
       "    <tr style=\"text-align: right;\">\n",
       "      <th></th>\n",
       "      <th></th>\n",
       "      <th>U10</th>\n",
       "      <th>V10</th>\n",
       "      <th>T2</th>\n",
       "      <th>TSK</th>\n",
       "      <th>UST</th>\n",
       "      <th>PSFC</th>\n",
       "      <th>HFX</th>\n",
       "      <th>LH</th>\n",
       "      <th>MUU</th>\n",
       "      <th>MUV</th>\n",
       "      <th>...</th>\n",
       "      <th>RU_TEND_ADV</th>\n",
       "      <th>RU_TEND_PGF</th>\n",
       "      <th>RU_TEND_COR</th>\n",
       "      <th>RU_TEND_PHYS</th>\n",
       "      <th>RV_TEND</th>\n",
       "      <th>RV_TEND_ADV</th>\n",
       "      <th>RV_TEND_PGF</th>\n",
       "      <th>RV_TEND_COR</th>\n",
       "      <th>RV_TEND_PHYS</th>\n",
       "      <th>T_TEND_ADV</th>\n",
       "    </tr>\n",
       "    <tr>\n",
       "      <th>Time</th>\n",
       "      <th>height</th>\n",
       "      <th></th>\n",
       "      <th></th>\n",
       "      <th></th>\n",
       "      <th></th>\n",
       "      <th></th>\n",
       "      <th></th>\n",
       "      <th></th>\n",
       "      <th></th>\n",
       "      <th></th>\n",
       "      <th></th>\n",
       "      <th></th>\n",
       "      <th></th>\n",
       "      <th></th>\n",
       "      <th></th>\n",
       "      <th></th>\n",
       "      <th></th>\n",
       "      <th></th>\n",
       "      <th></th>\n",
       "      <th></th>\n",
       "      <th></th>\n",
       "      <th></th>\n",
       "    </tr>\n",
       "  </thead>\n",
       "  <tbody>\n",
       "    <tr>\n",
       "      <th rowspan=\"5\" valign=\"top\">2013-11-06 12:00:00.003662109</th>\n",
       "      <th>0.0</th>\n",
       "      <td>0.40989</td>\n",
       "      <td>-3.397831</td>\n",
       "      <td>275.264038</td>\n",
       "      <td>274.728882</td>\n",
       "      <td>0.27731</td>\n",
       "      <td>90853.046875</td>\n",
       "      <td>-14.032852</td>\n",
       "      <td>4.872955</td>\n",
       "      <td>80763.132812</td>\n",
       "      <td>80755.640625</td>\n",
       "      <td>...</td>\n",
       "      <td>0.006714</td>\n",
       "      <td>66.278999</td>\n",
       "      <td>-14.339102</td>\n",
       "      <td>-38.899025</td>\n",
       "      <td>45.427250</td>\n",
       "      <td>-3.068443</td>\n",
       "      <td>28.706203</td>\n",
       "      <td>-1.791386</td>\n",
       "      <td>21.580963</td>\n",
       "      <td>-2.690586</td>\n",
       "    </tr>\n",
       "    <tr>\n",
       "      <th>5.0</th>\n",
       "      <td>0.40989</td>\n",
       "      <td>-3.397831</td>\n",
       "      <td>275.264038</td>\n",
       "      <td>274.728882</td>\n",
       "      <td>0.27731</td>\n",
       "      <td>90853.046875</td>\n",
       "      <td>-14.032852</td>\n",
       "      <td>4.872955</td>\n",
       "      <td>80763.132812</td>\n",
       "      <td>80755.640625</td>\n",
       "      <td>...</td>\n",
       "      <td>0.292037</td>\n",
       "      <td>69.043326</td>\n",
       "      <td>-19.429755</td>\n",
       "      <td>-31.578338</td>\n",
       "      <td>17.045369</td>\n",
       "      <td>-4.288580</td>\n",
       "      <td>-0.041901</td>\n",
       "      <td>-2.268481</td>\n",
       "      <td>23.644505</td>\n",
       "      <td>-3.768990</td>\n",
       "    </tr>\n",
       "    <tr>\n",
       "      <th>10.0</th>\n",
       "      <td>0.40989</td>\n",
       "      <td>-3.397831</td>\n",
       "      <td>275.264038</td>\n",
       "      <td>274.728882</td>\n",
       "      <td>0.27731</td>\n",
       "      <td>90853.046875</td>\n",
       "      <td>-14.032852</td>\n",
       "      <td>4.872955</td>\n",
       "      <td>80763.132812</td>\n",
       "      <td>80755.640625</td>\n",
       "      <td>...</td>\n",
       "      <td>0.842299</td>\n",
       "      <td>59.872710</td>\n",
       "      <td>-24.687571</td>\n",
       "      <td>-23.913889</td>\n",
       "      <td>-8.752732</td>\n",
       "      <td>-6.283154</td>\n",
       "      <td>-25.770571</td>\n",
       "      <td>-2.726643</td>\n",
       "      <td>26.027914</td>\n",
       "      <td>-4.718890</td>\n",
       "    </tr>\n",
       "    <tr>\n",
       "      <th>15.0</th>\n",
       "      <td>0.40989</td>\n",
       "      <td>-3.397831</td>\n",
       "      <td>275.264038</td>\n",
       "      <td>274.728882</td>\n",
       "      <td>0.27731</td>\n",
       "      <td>90853.046875</td>\n",
       "      <td>-14.032852</td>\n",
       "      <td>4.872955</td>\n",
       "      <td>80763.132812</td>\n",
       "      <td>80755.640625</td>\n",
       "      <td>...</td>\n",
       "      <td>1.295481</td>\n",
       "      <td>57.942405</td>\n",
       "      <td>-26.890397</td>\n",
       "      <td>-24.519225</td>\n",
       "      <td>31.359257</td>\n",
       "      <td>-7.153849</td>\n",
       "      <td>14.244196</td>\n",
       "      <td>-2.846576</td>\n",
       "      <td>27.115827</td>\n",
       "      <td>-5.162195</td>\n",
       "    </tr>\n",
       "    <tr>\n",
       "      <th>20.0</th>\n",
       "      <td>0.40989</td>\n",
       "      <td>-3.397831</td>\n",
       "      <td>275.264038</td>\n",
       "      <td>274.728882</td>\n",
       "      <td>0.27731</td>\n",
       "      <td>90853.046875</td>\n",
       "      <td>-14.032852</td>\n",
       "      <td>4.872955</td>\n",
       "      <td>80763.132812</td>\n",
       "      <td>80755.640625</td>\n",
       "      <td>...</td>\n",
       "      <td>1.964480</td>\n",
       "      <td>104.336796</td>\n",
       "      <td>-29.521292</td>\n",
       "      <td>-21.352446</td>\n",
       "      <td>23.959743</td>\n",
       "      <td>-7.510135</td>\n",
       "      <td>7.143974</td>\n",
       "      <td>-2.918640</td>\n",
       "      <td>27.244956</td>\n",
       "      <td>-5.762669</td>\n",
       "    </tr>\n",
       "  </tbody>\n",
       "</table>\n",
       "<p>5 rows × 26 columns</p>\n",
       "</div>"
      ],
      "text/plain": [
       "                                          U10       V10          T2  \\\n",
       "Time                          height                                  \n",
       "2013-11-06 12:00:00.003662109 0.0     0.40989 -3.397831  275.264038   \n",
       "                              5.0     0.40989 -3.397831  275.264038   \n",
       "                              10.0    0.40989 -3.397831  275.264038   \n",
       "                              15.0    0.40989 -3.397831  275.264038   \n",
       "                              20.0    0.40989 -3.397831  275.264038   \n",
       "\n",
       "                                             TSK      UST          PSFC  \\\n",
       "Time                          height                                      \n",
       "2013-11-06 12:00:00.003662109 0.0     274.728882  0.27731  90853.046875   \n",
       "                              5.0     274.728882  0.27731  90853.046875   \n",
       "                              10.0    274.728882  0.27731  90853.046875   \n",
       "                              15.0    274.728882  0.27731  90853.046875   \n",
       "                              20.0    274.728882  0.27731  90853.046875   \n",
       "\n",
       "                                            HFX        LH           MUU  \\\n",
       "Time                          height                                      \n",
       "2013-11-06 12:00:00.003662109 0.0    -14.032852  4.872955  80763.132812   \n",
       "                              5.0    -14.032852  4.872955  80763.132812   \n",
       "                              10.0   -14.032852  4.872955  80763.132812   \n",
       "                              15.0   -14.032852  4.872955  80763.132812   \n",
       "                              20.0   -14.032852  4.872955  80763.132812   \n",
       "\n",
       "                                               MUV  ...  RU_TEND_ADV  \\\n",
       "Time                          height                ...                \n",
       "2013-11-06 12:00:00.003662109 0.0     80755.640625  ...     0.006714   \n",
       "                              5.0     80755.640625  ...     0.292037   \n",
       "                              10.0    80755.640625  ...     0.842299   \n",
       "                              15.0    80755.640625  ...     1.295481   \n",
       "                              20.0    80755.640625  ...     1.964480   \n",
       "\n",
       "                                      RU_TEND_PGF  RU_TEND_COR  RU_TEND_PHYS  \\\n",
       "Time                          height                                           \n",
       "2013-11-06 12:00:00.003662109 0.0       66.278999   -14.339102    -38.899025   \n",
       "                              5.0       69.043326   -19.429755    -31.578338   \n",
       "                              10.0      59.872710   -24.687571    -23.913889   \n",
       "                              15.0      57.942405   -26.890397    -24.519225   \n",
       "                              20.0     104.336796   -29.521292    -21.352446   \n",
       "\n",
       "                                        RV_TEND  RV_TEND_ADV  RV_TEND_PGF  \\\n",
       "Time                          height                                        \n",
       "2013-11-06 12:00:00.003662109 0.0     45.427250    -3.068443    28.706203   \n",
       "                              5.0     17.045369    -4.288580    -0.041901   \n",
       "                              10.0    -8.752732    -6.283154   -25.770571   \n",
       "                              15.0    31.359257    -7.153849    14.244196   \n",
       "                              20.0    23.959743    -7.510135     7.143974   \n",
       "\n",
       "                                      RV_TEND_COR  RV_TEND_PHYS  T_TEND_ADV  \n",
       "Time                          height                                         \n",
       "2013-11-06 12:00:00.003662109 0.0       -1.791386     21.580963   -2.690586  \n",
       "                              5.0       -2.268481     23.644505   -3.768990  \n",
       "                              10.0      -2.726643     26.027914   -4.718890  \n",
       "                              15.0      -2.846576     27.115827   -5.162195  \n",
       "                              20.0      -2.918640     27.244956   -5.762669  \n",
       "\n",
       "[5 rows x 26 columns]"
      ]
     },
     "execution_count": 10,
     "metadata": {},
     "output_type": "execute_result"
    }
   ],
   "source": [
    "xa.to_dataframe().head()"
   ]
  },
  {
   "cell_type": "markdown",
   "metadata": {},
   "source": [
    "## Process data"
   ]
  },
  {
   "cell_type": "code",
   "execution_count": 11,
   "metadata": {},
   "outputs": [],
   "source": [
    "# Round timestamp to 10min\n",
    "xa['Time'] = xa['Time'].dt.round('10min')"
   ]
  },
  {
   "cell_type": "markdown",
   "metadata": {},
   "source": [
    "Rescale tendencies with MU*"
   ]
  },
  {
   "cell_type": "code",
   "execution_count": 12,
   "metadata": {},
   "outputs": [],
   "source": [
    "fieldnames_muu = ['RU_TEND','RU_TEND_ADV','RU_TEND_PGF','RU_TEND_COR','RU_TEND_PHYS']\n",
    "fieldnames_muv = ['RV_TEND','RV_TEND_ADV','RV_TEND_PGF','RV_TEND_COR','RV_TEND_PHYS']\n",
    "fieldnames_mut = ['T_TEND_ADV',]\n",
    "for field in fieldnames_muu:\n",
    "    xa[field].values = xa[field].values/xa['MUU'].values[:,np.newaxis]\n",
    "for field in fieldnames_muv:\n",
    "    xa[field].values = xa[field].values/xa['MUV'].values[:,np.newaxis]\n",
    "for field in fieldnames_mut:\n",
    "    xa[field].values = xa[field].values/xa['MUT'].values[:,np.newaxis]"
   ]
  },
  {
   "cell_type": "markdown",
   "metadata": {},
   "source": [
    "Compute additional surface parameters"
   ]
  },
  {
   "cell_type": "code",
   "execution_count": 13,
   "metadata": {},
   "outputs": [],
   "source": [
    "rho = xa['PSFC'] / (R_air*xa['T2'])\n",
    "\n",
    "# Kinematic heat flux\n",
    "xa['wt']  = xa['HFX'] / (Cp_air*rho)\n",
    "xa['wt'].attrs['description'] = 'kinematic heat flux'\n",
    "xa['wt'].attrs['units'] = 'K m s-1'\n",
    "\n",
    "# Obukhov length\n",
    "xa['L0']  = -xa['UST']**3 * xa['T2'] / (K * g * xa['wt'])\n",
    "xa['L0'].attrs['description'] = 'Obukhov length'\n",
    "xa['L0'].attrs['units'] = 'm'"
   ]
  },
  {
   "cell_type": "markdown",
   "metadata": {},
   "source": [
    "Compute potential temperature from T2 and TSK"
   ]
  },
  {
   "cell_type": "code",
   "execution_count": 14,
   "metadata": {},
   "outputs": [],
   "source": [
    "# Surface skin potential temperature\n",
    "xa['thetaSK'] = xa['TSK'] * (P0/xa['PSFC'])**kappa\n",
    "xa['thetaSK'].attrs['desccription'] = 'surface skin potential temperature'\n",
    "xa['thetaSK'].attrs['units'] = 'K'\n",
    "\n",
    "# Potential temperature at 2 m\n",
    "xa['theta2'] = xa['T2'] * (P0/xa['PSFC'])**kappa\n",
    "xa['theta2'].attrs['desccription'] = 'potential temperature at 2 m'\n",
    "xa['theta2'].attrs['units'] = 'K'"
   ]
  },
  {
   "cell_type": "markdown",
   "metadata": {},
   "source": [
    "Apply temporal averaging"
   ]
  },
  {
   "cell_type": "code",
   "execution_count": 15,
   "metadata": {},
   "outputs": [],
   "source": [
    "Twindow = 3600. #Window size [s]\n",
    "\n",
    "# Calculate number of samples in window\n",
    "time_index = xa['Time'].values\n",
    "tdelta = (time_index[1] - time_index[0]) / pd.Timedelta(1,unit='s')\n",
    "windowsize = int(Twindow/tdelta) + 1\n",
    "    \n",
    "# Apply rolling average\n",
    "xa_avg = xa.rolling(Time=windowsize,center=True,min_periods=1).mean()"
   ]
  },
  {
   "cell_type": "code",
   "execution_count": 16,
   "metadata": {},
   "outputs": [],
   "source": [
    "# Save WRF column data\n",
    "xa.to_netcdf('/projects/mmc/SWIFTRegion/8Nov2013/WRF_144hrs/SWIFT_L0w0.nc','w',format='NETCDF4')\n",
    "xa_avg.to_netcdf('/projects/mmc/SWIFTRegion/8Nov2013/WRF_144hrs/SWIFT_L0w60.nc','w',format='NETCDF4')"
   ]
  },
  {
   "cell_type": "markdown",
   "metadata": {},
   "source": [
    "## Write data as SOWFA input file"
   ]
  },
  {
   "cell_type": "code",
   "execution_count": 17,
   "metadata": {},
   "outputs": [],
   "source": [
    "dateref = '2013-11-08 00:00:00'\n",
    "datefrom = '2013-11-08 12:00:00'\n",
    "dateto = '2013-11-09 12:00:00'"
   ]
  },
  {
   "cell_type": "code",
   "execution_count": 18,
   "metadata": {},
   "outputs": [],
   "source": [
    "dirout = '/projects/mmc/SWIFTRegion/8Nov2013/WRF_144hrs/SWIFT_L0w0_v2'"
   ]
  },
  {
   "cell_type": "code",
   "execution_count": 19,
   "metadata": {},
   "outputs": [],
   "source": [
    "# Generate dataframe with U, V, W, theta\n",
    "df = xa.to_dataframe().loc[:,['U','V','W','theta']].reset_index()\n",
    "df.rename(index=str, columns={\"Time\": \"datetime\"},inplace=True)\n",
    "df.set_index('datetime',inplace=True)\n",
    "\n",
    "# Write U, V, W, theta to fieldTable\n",
    "timeheight_to_sowfa(dirout,'fieldTable',df,dateref,datefrom=datefrom,dateto=dateto,\n",
    "                   xmom='U',ymom='V',zmom='W',temp='theta')\n",
    "\n",
    "# Write initial profiles U, V, theta\n",
    "ICs_to_sowfa(dirout,'initialValues',df,datefrom,xmom='U',ymom='V',temp='theta')"
   ]
  },
  {
   "cell_type": "code",
   "execution_count": 20,
   "metadata": {},
   "outputs": [],
   "source": [
    "# Generate dataframe with U, V and theta tendencies\n",
    "xa['FU'] = xa['RU_TEND_PGF'] + xa['RU_TEND_ADV']\n",
    "xa['FV'] = xa['RV_TEND_PGF'] + xa['RV_TEND_ADV']\n",
    "\n",
    "df = xa.to_dataframe().loc[:,['FU','FV','T_TEND_ADV']].reset_index()\n",
    "df.rename(index=str, columns={\"Time\": \"datetime\"},inplace=True)\n",
    "df.set_index('datetime',inplace=True)\n",
    "\n",
    "# Write FU, FV and T_TEND_ADV to forcingTable\n",
    "timeheight_to_sowfa(dirout,'forcingTable',df,dateref,datefrom=datefrom,dateto=dateto,\n",
    "                   xmom='FU',ymom='FV',zmom='FW',temp='T_TEND_ADV') #FW does not exist so will be set to zero"
   ]
  },
  {
   "cell_type": "code",
   "execution_count": 22,
   "metadata": {},
   "outputs": [],
   "source": [
    "# Generate dataframe with surface parameters\n",
    "df = xa.to_dataframe().loc[:,['TSK','T2','thetaSK','theta2','wt']].reset_index()\n",
    "df.rename(index=str, columns={\"Time\": \"datetime\"},inplace=True)\n",
    "df.set_index('datetime',inplace=True)\n",
    "df = df.loc[df.height==0].copy()\n",
    "\n",
    "# Write surface parameters\n",
    "BCs_to_sowfa(dirout,'surfaceSkinTemperatureTable',df,dateref,datefrom=datefrom,dateto=dateto,fieldname='TSK')\n",
    "BCs_to_sowfa(dirout,'surface2mTemperatureTable',df,dateref,datefrom=datefrom,dateto=dateto,fieldname='T2')\n",
    "BCs_to_sowfa(dirout,'surfaceSkinPotentialTemperatureTable',df,dateref,datefrom=datefrom,dateto=dateto,fieldname='thetaSK')\n",
    "BCs_to_sowfa(dirout,'surface2mPotentialTemperatureTable',df,dateref,datefrom=datefrom,dateto=dateto,fieldname='theta2')\n",
    "BCs_to_sowfa(dirout,'surfaceTemperatureFluxTable',df,dateref,datefrom=datefrom,dateto=dateto,fieldname='wt',fact=-1.0)"
   ]
  },
  {
   "cell_type": "code",
   "execution_count": null,
   "metadata": {},
   "outputs": [],
   "source": []
  }
 ],
 "metadata": {
  "kernelspec": {
   "display_name": "Python 3",
   "language": "python",
   "name": "python3"
  },
  "language_info": {
   "codemirror_mode": {
    "name": "ipython",
    "version": 3
   },
   "file_extension": ".py",
   "mimetype": "text/x-python",
   "name": "python",
   "nbconvert_exporter": "python",
   "pygments_lexer": "ipython3",
   "version": "3.6.7"
  }
 },
 "nbformat": 4,
 "nbformat_minor": 2
}
